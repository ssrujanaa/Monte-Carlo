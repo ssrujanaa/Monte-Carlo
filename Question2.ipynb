{
 "cells": [
  {
   "cell_type": "code",
   "execution_count": null,
   "metadata": {},
   "outputs": [],
   "source": [
    "import pandas as pd\n",
    "def isEditDistanceOne(s1, s2): \n",
    "\n",
    "    m = len(s1) \n",
    "    n = len(s2) \n",
    "  \n",
    "    if abs(m - n) > 1: \n",
    "        return False \n",
    "  \n",
    "    count = 0    # Count of isEditDistanceOne \n",
    "  \n",
    "    i = 0\n",
    "    j = 0\n",
    "    while i < m and j < n: \n",
    "        if s1[i] != s2[j]: \n",
    "            if m > n: \n",
    "                i+=1\n",
    "            elif m < n: \n",
    "                j+=1\n",
    "            else:    \n",
    "                i+=1\n",
    "                j+=1\n",
    "  \n",
    "            # Increment count of edits \n",
    "            count+=1\n",
    "  \n",
    "        else:    \n",
    "            i+=1\n",
    "            j+=1\n",
    " \n",
    "    if i < m or j < n: \n",
    "        count+=1\n",
    "  \n",
    "    return count"
   ]
  },
  {
   "cell_type": "code",
   "execution_count": null,
   "metadata": {
    "scrolled": true
   },
   "outputs": [],
   "source": [
    "df = pd.read_csv(\"sample_barcode _data.csv\")\n",
    "st2=[]\n",
    "for i in range(1000):\n",
    "    s1 = df['Data'][i]\n",
    "    count = 0\n",
    "    for j in range(1000):\n",
    "        s2 = df['Data'][j]\n",
    "        c = isEditDistanceOne(s1, s2)\n",
    "    #     print(c)\n",
    "        if c < 3:\n",
    "            count += 1\n",
    "        else: \n",
    "            continue\n",
    "#     print(\"The string\", df['Data'][i],\"appears\",count,\"times\")\n",
    "    st2.append(count)\n",
    "print(st2)"
   ]
  },
  {
   "cell_type": "code",
   "execution_count": null,
   "metadata": {},
   "outputs": [],
   "source": [
    "st2"
   ]
  },
  {
   "cell_type": "code",
   "execution_count": null,
   "metadata": {},
   "outputs": [],
   "source": [
    "df = pd.read_csv(\"sample_barcode _data.csv\")\n",
    "st2=[]\n",
    "for i in range(len(df)):\n",
    "    s1 = df['Data'][i]\n",
    "    count = 0\n",
    "    for j in range(len(df)):\n",
    "        s2 = df['Data'][j]\n",
    "        c = isEditDistanceOne(s1, s2)\n",
    "    #     print(c)\n",
    "        if c < 3:\n",
    "            count += 1\n",
    "        else: \n",
    "            continue\n",
    "#     print(\"The string\", df['Data'][i],\"appears\",count,\"times\")\n",
    "    st2.append(count)\n",
    "print(st2)"
   ]
  },
  {
   "cell_type": "code",
   "execution_count": null,
   "metadata": {
    "scrolled": true
   },
   "outputs": [],
   "source": []
  },
  {
   "cell_type": "code",
   "execution_count": null,
   "metadata": {},
   "outputs": [],
   "source": []
  },
  {
   "cell_type": "code",
   "execution_count": null,
   "metadata": {},
   "outputs": [],
   "source": []
  },
  {
   "cell_type": "code",
   "execution_count": null,
   "metadata": {},
   "outputs": [],
   "source": []
  },
  {
   "cell_type": "code",
   "execution_count": null,
   "metadata": {},
   "outputs": [],
   "source": []
  },
  {
   "cell_type": "code",
   "execution_count": null,
   "metadata": {},
   "outputs": [],
   "source": []
  },
  {
   "cell_type": "code",
   "execution_count": null,
   "metadata": {},
   "outputs": [],
   "source": []
  },
  {
   "cell_type": "code",
   "execution_count": null,
   "metadata": {},
   "outputs": [],
   "source": []
  },
  {
   "cell_type": "code",
   "execution_count": null,
   "metadata": {},
   "outputs": [],
   "source": []
  },
  {
   "cell_type": "code",
   "execution_count": null,
   "metadata": {},
   "outputs": [],
   "source": []
  },
  {
   "cell_type": "code",
   "execution_count": null,
   "metadata": {},
   "outputs": [],
   "source": []
  },
  {
   "cell_type": "code",
   "execution_count": null,
   "metadata": {},
   "outputs": [],
   "source": []
  },
  {
   "cell_type": "code",
   "execution_count": null,
   "metadata": {},
   "outputs": [],
   "source": []
  },
  {
   "cell_type": "code",
   "execution_count": null,
   "metadata": {},
   "outputs": [],
   "source": []
  },
  {
   "cell_type": "code",
   "execution_count": null,
   "metadata": {},
   "outputs": [],
   "source": []
  },
  {
   "cell_type": "code",
   "execution_count": null,
   "metadata": {},
   "outputs": [],
   "source": []
  },
  {
   "cell_type": "code",
   "execution_count": null,
   "metadata": {},
   "outputs": [],
   "source": []
  },
  {
   "cell_type": "code",
   "execution_count": null,
   "metadata": {},
   "outputs": [],
   "source": []
  }
 ],
 "metadata": {
  "kernelspec": {
   "display_name": "Python 3",
   "language": "python",
   "name": "python3"
  },
  "language_info": {
   "codemirror_mode": {
    "name": "ipython",
    "version": 3
   },
   "file_extension": ".py",
   "mimetype": "text/x-python",
   "name": "python",
   "nbconvert_exporter": "python",
   "pygments_lexer": "ipython3",
   "version": "3.7.6"
  }
 },
 "nbformat": 4,
 "nbformat_minor": 4
}
