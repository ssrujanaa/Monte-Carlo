{
 "cells": [
  {
   "cell_type": "markdown",
   "metadata": {},
   "source": []
  },
  {
   "cell_type": "code",
   "execution_count": 638,
   "metadata": {},
   "outputs": [
    {
     "name": "stdout",
     "output_type": "stream",
     "text": [
      "95.16\n",
      "When X= 100  and p= 3 cells can be soaked in the virus library such that more than 95% of the times, more than 95% of cells end up with unique DNA barcodes \n"
     ]
    }
   ],
   "source": [
    "import numpy as np\n",
    "\n",
    "def Monte_Carlo(p,X):\n",
    "    N = 1000 \n",
    "\n",
    "    x2 = np.random.randint(N, size=X) #X unique DNA barcodes\n",
    "    x3 = np.random.choice(x2, 2*X ,replace=True) #virus pool say the pool has twice as much viruses \n",
    "                                                 #as the unique DNA barcodes\n",
    "    x1 = np.random.choice(x3,p, replace=True) #randomly gets one of the unique DNA barcodes from the v irus pool\n",
    "                                              #with duplicates\n",
    "\n",
    "    \n",
    "# Goal is to find p such that confidence = 95%\n",
    "\n",
    "    isunique = (len(np.unique(x1)) / len(x1)) * 100\n",
    "    if isunique > 95:\n",
    "        return True\n",
    "    else:\n",
    "        return False\n",
    "    \n",
    "add=0\n",
    "for j in range(5):\n",
    "    count = 0\n",
    "    for i in range(500):\n",
    "        x = Monte_Carlo(3,100)\n",
    "        if(x):\n",
    "            count+=1\n",
    "    add = add+(count)\n",
    "    \n",
    "print((add/2500)*100)\n",
    "print(\"When X=\",100,\" and p=\",3,\"cells can be soaked in the virus library such that more than 95% of the times, more than 95% of cells end up with unique DNA barcodes \")"
   ]
  },
  {
   "cell_type": "code",
   "execution_count": null,
   "metadata": {},
   "outputs": [],
   "source": []
  },
  {
   "cell_type": "code",
   "execution_count": null,
   "metadata": {
    "scrolled": true
   },
   "outputs": [],
   "source": []
  },
  {
   "cell_type": "code",
   "execution_count": null,
   "metadata": {},
   "outputs": [],
   "source": []
  },
  {
   "cell_type": "code",
   "execution_count": null,
   "metadata": {},
   "outputs": [],
   "source": []
  },
  {
   "cell_type": "code",
   "execution_count": null,
   "metadata": {},
   "outputs": [],
   "source": []
  },
  {
   "cell_type": "code",
   "execution_count": null,
   "metadata": {},
   "outputs": [],
   "source": []
  }
 ],
 "metadata": {
  "kernelspec": {
   "display_name": "Python 3",
   "language": "python",
   "name": "python3"
  },
  "language_info": {
   "codemirror_mode": {
    "name": "ipython",
    "version": 3
   },
   "file_extension": ".py",
   "mimetype": "text/x-python",
   "name": "python",
   "nbconvert_exporter": "python",
   "pygments_lexer": "ipython3",
   "version": "3.7.6"
  }
 },
 "nbformat": 4,
 "nbformat_minor": 4
}
